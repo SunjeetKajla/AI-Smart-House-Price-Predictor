{
 "cells": [
  {
   "cell_type": "markdown",
   "id": "fffa90b1",
   "metadata": {},
   "source": [
    "Please Read Model_Training.ipynb before this 🙏🏻"
   ]
  },
  {
   "cell_type": "markdown",
   "id": "9804dde5",
   "metadata": {},
   "source": [
    "As I told that Random Forest is the best of the 3 models, let's see it in test"
   ]
  },
  {
   "cell_type": "code",
   "execution_count": 1,
   "id": "c51311a4",
   "metadata": {},
   "outputs": [],
   "source": [
    "import pandas as pd\n",
    "import numpy as np\n",
    "import joblib"
   ]
  },
  {
   "cell_type": "code",
   "execution_count": null,
   "id": "2e8a0921",
   "metadata": {},
   "outputs": [],
   "source": [
    "reg = joblib.load('linear_regressor.pkl')\n",
    "forest = joblib.load('random_forest_model.pkl')\n",
    "gb_regressor = joblib.load('gradient_boosting_model.pkl')\n",
    "scaler = joblib.load('scaler.pkl')"
   ]
  },
  {
   "cell_type": "markdown",
   "id": "75a996ac",
   "metadata": {},
   "source": [
    "Using First row of the dataset to see if results are correct or not."
   ]
  },
  {
   "cell_type": "code",
   "execution_count": null,
   "id": "f1926af5",
   "metadata": {},
   "outputs": [],
   "source": [
    "new_data = pd.DataFrame([{\n",
    "    'longitude': -122.23,\n",
    "    'latitude': 37.88,\n",
    "    'housing_median_age': 41.0,\n",
    "    'total_rooms': 880.0,\n",
    "    'total_bedrooms': 129.0,\n",
    "    'population': 322.0,\n",
    "    'households': 126.0,\n",
    "    'median_income': 8.3252,\n",
    "    'ocean_proximity': 'NEAR BAY'\n",
    "}])"
   ]
  },
  {
   "cell_type": "code",
   "execution_count": null,
   "id": "f1e1b374",
   "metadata": {},
   "outputs": [],
   "source": [
    "for col in ['total_rooms', 'total_bedrooms', 'population', 'households']:\n",
    "    new_data[col] = np.log(new_data[col]) + 1"
   ]
  },
  {
   "cell_type": "code",
   "execution_count": null,
   "id": "cc8f78e5",
   "metadata": {},
   "outputs": [],
   "source": [
    "expected_ocean_categories = ['<1H OCEAN', 'INLAND', 'ISLAND', 'NEAR BAY', 'NEAR OCEAN']\n",
    "ocean_dummies = pd.get_dummies(new_data['ocean_proximity'])\n",
    "for cat in expected_ocean_categories:\n",
    "    if cat not in ocean_dummies.columns:\n",
    "        ocean_dummies[cat] = 0\n",
    "new_data = new_data.drop('ocean_proximity', axis=1)\n",
    "new_data = pd.concat([new_data, ocean_dummies[expected_ocean_categories]], axis=1)"
   ]
  },
  {
   "cell_type": "code",
   "execution_count": null,
   "id": "a7c8d524",
   "metadata": {},
   "outputs": [],
   "source": [
    "new_data['bedroom_ratio'] = new_data['total_bedrooms'] / new_data['total_rooms']\n",
    "new_data['household_rooms'] = new_data['total_rooms'] / new_data['households']"
   ]
  },
  {
   "cell_type": "code",
   "execution_count": null,
   "id": "471957e7",
   "metadata": {},
   "outputs": [],
   "source": [
    "final_column_order = [\n",
    "    'longitude', 'latitude', 'housing_median_age',\n",
    "    'total_rooms', 'total_bedrooms', 'population', 'households',\n",
    "    'median_income',\n",
    "    '<1H OCEAN', 'INLAND', 'ISLAND', 'NEAR BAY', 'NEAR OCEAN',\n",
    "    'bedroom_ratio', 'household_rooms'\n",
    "]\n",
    "new_data = new_data[final_column_order]"
   ]
  },
  {
   "cell_type": "code",
   "execution_count": null,
   "id": "1840f5b3",
   "metadata": {},
   "outputs": [],
   "source": [
    "new_data_scaled = scaler.transform(new_data)\n",
    "\n",
    "lr_pred = reg.predict(new_data_scaled)\n",
    "rf_pred = forest.predict(new_data_scaled)\n",
    "gb_pred = gb_regressor.predict(new_data_scaled)"
   ]
  },
  {
   "cell_type": "code",
   "execution_count": null,
   "id": "1ce14161",
   "metadata": {},
   "outputs": [
    {
     "name": "stdout",
     "output_type": "stream",
     "text": [
      "Linear Regression Prediction: $414,153.21\n",
      "Random Forest Prediction:    $440,626.11\n",
      "Gradient Boosting Prediction:$421,854.03\n"
     ]
    }
   ],
   "source": [
    "print(f\"Linear Regression Prediction: ${lr_pred[0]:,.2f}\")\n",
    "print(f\"Random Forest Prediction:    ${rf_pred[0]:,.2f}\")\n",
    "print(f\"Gradient Boosting Prediction:${gb_pred[0]:,.2f}\")"
   ]
  },
  {
   "cell_type": "markdown",
   "id": "12b04c4a",
   "metadata": {},
   "source": [
    "As you can See the price predictions of Random Forest is most closest to the actual prices."
   ]
  },
  {
   "cell_type": "markdown",
   "id": "fbfddedf",
   "metadata": {},
   "source": [
    "LHS = RHS, Hence Proved."
   ]
  }
 ],
 "metadata": {
  "kernelspec": {
   "display_name": "Python 3",
   "language": "python",
   "name": "python3"
  },
  "language_info": {
   "codemirror_mode": {
    "name": "ipython",
    "version": 3
   },
   "file_extension": ".py",
   "mimetype": "text/x-python",
   "name": "python",
   "nbconvert_exporter": "python",
   "pygments_lexer": "ipython3",
   "version": "3.13.5"
  }
 },
 "nbformat": 4,
 "nbformat_minor": 5
}
